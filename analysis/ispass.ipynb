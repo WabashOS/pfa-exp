{
 "cells": [
  {
   "cell_type": "markdown",
   "metadata": {
    "collapsed": true
   },
   "source": [
    "# Setup"
   ]
  },
  {
   "cell_type": "code",
   "execution_count": 1,
   "metadata": {},
   "outputs": [],
   "source": [
    "import pandas as pd\n",
    "import numpy as np\n",
    "import matplotlib\n",
    "import matplotlib.pyplot as plt\n",
    "import matplotlib.font_manager as font_manager\n",
    "import math\n",
    "import pathlib\n",
    "import re"
   ]
  },
  {
   "cell_type": "code",
   "execution_count": 2,
   "metadata": {},
   "outputs": [],
   "source": [
    "# Color style similar to ppt color scheme\n",
    "plt.style.use('seaborn-colorblind')\n",
    "\n",
    "#Latex Default Font\n",
    "plt.rc('font', family='serif') \n",
    "plt.rc('font', serif='Latin Modern Roman')\n",
    "matplotlib.rcParams.update({'font.size': 16})"
   ]
  },
  {
   "cell_type": "code",
   "execution_count": 3,
   "metadata": {},
   "outputs": [],
   "source": [
    "def make_hatches(ax, df):\n",
    "    hatches = [h*len(df.index) for h in [['//'], ['--'], ['x'], ['\\\\'], ['||'], ['+'], ['o'], ['.']]]\n",
    "    hatches = sum(hatches, [])\n",
    "\n",
    "    if len(hatches) < len(ax.patches):\n",
    "        print(\"Not enough hatches defined\")\n",
    "        \n",
    "    for i,bar in enumerate(ax.patches):\n",
    "        bar.set_hatch(hatches[i])\n",
    "    ax.legend()"
   ]
  },
  {
   "cell_type": "markdown",
   "metadata": {},
   "source": [
    "# Constants "
   ]
  },
  {
   "cell_type": "code",
   "execution_count": 4,
   "metadata": {},
   "outputs": [],
   "source": [
    "# Frequency of rocketchip (in GHz)\n",
    "rocketFreq = 3.2"
   ]
  },
  {
   "cell_type": "markdown",
   "metadata": {},
   "source": [
    "## Load Raw Results"
   ]
  },
  {
   "cell_type": "code",
   "execution_count": 5,
   "metadata": {},
   "outputs": [
    {
     "name": "stdout",
     "output_type": "stream",
     "text": [
      "         t_rmem_read   t_fault          trap     e2e  t_rmem_read_raw  \\\n",
      "sw1610       2748.75  7673.750  1.650000e+02  7992.5        2808.4375   \n",
      "pfa1610         0.00  1579.375 -2.094380e+09  2570.0        2815.9375   \n",
      "\n",
      "              rtt config  \n",
      "sw1610   2015.625     sw  \n",
      "pfa1610  2015.625    pfa  \n"
     ]
    }
   ],
   "source": [
    "def combine(srcDir):\n",
    "    df = None\n",
    "    for srcF in srcDir.glob(\"*.csv\"):\n",
    "        llPat = re.compile(\"(.*)_pflat_(\\d*)\")\n",
    "        match = llPat.match(str(srcF.stem))\n",
    "        ll = float(match.group(2))\n",
    "        exp = match.group(1)\n",
    "        name = exp + str(int(ll))\n",
    "        newDf = pd.read_csv(srcF, header=0, comment=\"#\")\n",
    "        \n",
    "        # Note that the switch is configured for a 10 cycle delay, link latency is a single hop\n",
    "        newDf['rtt'] = ll*4 + 10\n",
    "        \n",
    "        # Convert to ns\n",
    "        newDf = (newDf / rocketFreq)\n",
    "        \n",
    "        newDf['config'] = exp\n",
    "        newDf.rename({0 : name}, inplace=True)\n",
    "        \n",
    "        if df is None:\n",
    "            df = newDf\n",
    "        else:\n",
    "            df = df.append(newDf)\n",
    "            \n",
    "    return df\n",
    "        \n",
    "    \n",
    "results = combine(pathlib.Path(\"./exampleResults\"))\n",
    "print(results)"
   ]
  },
  {
   "cell_type": "code",
   "execution_count": 6,
   "metadata": {},
   "outputs": [
    {
     "data": {
      "text/html": [
       "<div>\n",
       "<style scoped>\n",
       "    .dataframe tbody tr th:only-of-type {\n",
       "        vertical-align: middle;\n",
       "    }\n",
       "\n",
       "    .dataframe tbody tr th {\n",
       "        vertical-align: top;\n",
       "    }\n",
       "\n",
       "    .dataframe thead th {\n",
       "        text-align: right;\n",
       "    }\n",
       "</style>\n",
       "<table border=\"1\" class=\"dataframe\">\n",
       "  <thead>\n",
       "    <tr style=\"text-align: right;\">\n",
       "      <th></th>\n",
       "      <th>Trap</th>\n",
       "      <th>Local Processing</th>\n",
       "      <th>NW Link</th>\n",
       "      <th>RDMA Overhead</th>\n",
       "    </tr>\n",
       "  </thead>\n",
       "  <tbody>\n",
       "    <tr>\n",
       "      <th>APF</th>\n",
       "      <td>0.0</td>\n",
       "      <td>1.00</td>\n",
       "      <td>2015.625</td>\n",
       "      <td>554.375</td>\n",
       "    </tr>\n",
       "    <tr>\n",
       "      <th>SW</th>\n",
       "      <td>165.0</td>\n",
       "      <td>5078.75</td>\n",
       "      <td>2015.625</td>\n",
       "      <td>733.125</td>\n",
       "    </tr>\n",
       "  </tbody>\n",
       "</table>\n",
       "</div>"
      ],
      "text/plain": [
       "      Trap  Local Processing   NW Link  RDMA Overhead\n",
       "APF    0.0              1.00  2015.625        554.375\n",
       "SW   165.0           5078.75  2015.625        733.125"
      ]
     },
     "execution_count": 6,
     "metadata": {},
     "output_type": "execute_result"
    }
   ],
   "source": [
    "def cleanPFA(ser):\n",
    "    clean = {}\n",
    "    # Can't measure trap in PFA (maybe with some hardware instrumentation)\n",
    "    clean['Trap'] = 0\n",
    "    # 1 cycle PFA overhead (from source inspection)\n",
    "    clean['Local Processing'] = 1\n",
    "    clean['NW Link'] = ser['rtt']\n",
    "    # Technically this includes trap overheads as well (TLB miss, PT walk, etc.)\n",
    "    clean['RDMA Overhead'] = ser['e2e'] - ser['rtt'] - clean['Trap']\n",
    "    \n",
    "    return pd.Series(clean)\n",
    "\n",
    "def cleanSW(ser):\n",
    "    # SW has more complete info because we can instrument directly.\n",
    "    # RDMA overhead includes SW drivers which add some time vs PFA\n",
    "    clean = {}\n",
    "    clean['Trap'] = ser['trap']\n",
    "    clean['NW Link'] = ser['rtt']\n",
    "    clean['RDMA Overhead'] = ser['t_rmem_read'] - ser['rtt']\n",
    "    clean['Local Processing'] = ser['e2e'] - clean['Trap'] - clean['NW Link'] - clean['RDMA Overhead']\n",
    "    \n",
    "    return pd.Series(clean)\n",
    "\n",
    "fastNW = pd.DataFrame({\"APF\" : cleanPFA(results.loc['pfa1610', :])})\n",
    "fastNW['SW'] = cleanSW(results.loc['sw1610', :])\n",
    "fastNW = fastNW.transpose()\n",
    "\n",
    "fastNW"
   ]
  },
  {
   "cell_type": "code",
   "execution_count": 7,
   "metadata": {},
   "outputs": [
    {
     "name": "stderr",
     "output_type": "stream",
     "text": [
      "findfont: Font family ['serif'] not found. Falling back to DejaVu Sans.\n"
     ]
    },
    {
     "data": {
      "image/png": "[encoded data removed]",
      "text/plain": [
       "<Figure size 432x288 with 1 Axes>"
      ]
     },
     "metadata": {
      "needs_background": "light"
     },
     "output_type": "display_data"
    }
   ],
   "source": [
    "ax = fastNW.plot(kind=\"bar\", stacked=True)\n",
    "ax.set_ylabel(\"Time (ns)\")\n",
    "make_hatches(ax, fastNW)\n",
    "ax.get_figure().savefig(\"apfBreakdown500ns.pdf\", bbox_inches = \"tight\", format=\"pdf\")"
   ]
  },
  {
   "cell_type": "code",
   "execution_count": null,
   "metadata": {},
   "outputs": [],
   "source": []
  }
 ],
 "metadata": {
  "kernelspec": {
   "display_name": "Python 3",
   "language": "python",
   "name": "python3"
  },
  "language_info": {
   "codemirror_mode": {
    "name": "ipython",
    "version": 3
   },
   "file_extension": ".py",
   "mimetype": "text/x-python",
   "name": "python",
   "nbconvert_exporter": "python",
   "pygments_lexer": "ipython3",
   "version": "3.6.8"
  }
 },
 "nbformat": 4,
 "nbformat_minor": 2
}
